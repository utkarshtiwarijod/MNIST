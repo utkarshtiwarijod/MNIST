{
  "nbformat": 4,
  "nbformat_minor": 0,
  "metadata": {
    "colab": {
      "provenance": [],
      "authorship_tag": "ABX9TyNgpKDE0nyHokIEkN4a12Am",
      "include_colab_link": true
    },
    "kernelspec": {
      "name": "python3",
      "display_name": "Python 3"
    },
    "language_info": {
      "name": "python"
    }
  },
  "cells": [
    {
      "cell_type": "markdown",
      "metadata": {
        "id": "view-in-github",
        "colab_type": "text"
      },
      "source": [
        "<a href=\"https://colab.research.google.com/github/utkarshtiwarijod/MNIST/blob/main/CNN.ipynb\" target=\"_parent\"><img src=\"https://colab.research.google.com/assets/colab-badge.svg\" alt=\"Open In Colab\"/></a>"
      ]
    },
    {
      "cell_type": "code",
      "source": [
        "import tensorflow\n",
        "from tensorflow import keras\n",
        "from keras.layers import Dense,Flatten,Conv2D,AveragePooling2D\n",
        "from keras.datasets import mnist\n",
        "from keras import Sequential\n"
      ],
      "metadata": {
        "id": "JPjBbhn2ZfwJ"
      },
      "execution_count": 11,
      "outputs": []
    },
    {
      "cell_type": "code",
      "source": [
        "(X_train,y_train),(X_test,y_test)=mnist.load_data()"
      ],
      "metadata": {
        "id": "9JFWV5FwaeXN"
      },
      "execution_count": 12,
      "outputs": []
    },
    {
      "cell_type": "code",
      "source": [
        "model=Sequential()\n",
        "model.add(Conv2D(6,kernel_size(5,5),padding='valid',activation='tanh', input_shape(32,32,1)))\n",
        "model.add(AveragePooling2D(pool_size=(5,5),strides=2,paddinf='valid'))\n",
        "\n",
        "model.add(Conv2D(16,kernel_size(5,5),padding='valid',activation='tanh'))\n",
        "model.add(AveragePooling2D(pool_size=(5,5),strides=2,paddinf='valid'))\n",
        "\n",
        "model.add(Flatten)\n",
        "model.add(Dense(120,activation='tanh'))\n",
        "model.add(Dense(84,activation='tanh'))\n",
        "model.add(Dense(10,activation='tanh'))\n",
        "\n",
        "\n",
        "\n"
      ],
      "metadata": {
        "id": "F4PdsIX3cdRB",
        "colab": {
          "base_uri": "https://localhost:8080/",
          "height": 141
        },
        "outputId": "220f9293-46e8-4523-9aba-81d9082d8a55"
      },
      "execution_count": 14,
      "outputs": [
        {
          "output_type": "error",
          "ename": "SyntaxError",
          "evalue": "positional argument follows keyword argument (<ipython-input-14-246f3f52c703>, line 2)",
          "traceback": [
            "\u001b[0;36m  File \u001b[0;32m\"<ipython-input-14-246f3f52c703>\"\u001b[0;36m, line \u001b[0;32m2\u001b[0m\n\u001b[0;31m    model.add(Conv2D(6,kernel_size(5,5),padding='valid',activation='tanh', input_shape(32,32,1)))\u001b[0m\n\u001b[0m                                                                                               ^\u001b[0m\n\u001b[0;31mSyntaxError\u001b[0m\u001b[0;31m:\u001b[0m positional argument follows keyword argument\n"
          ]
        }
      ]
    },
    {
      "cell_type": "code",
      "source": [
        "model.summary()"
      ],
      "metadata": {
        "id": "1MFFJut9fhcm"
      },
      "execution_count": null,
      "outputs": []
    }
  ]
}